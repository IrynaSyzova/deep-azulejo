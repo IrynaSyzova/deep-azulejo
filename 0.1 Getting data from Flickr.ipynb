{
 "cells": [
  {
   "cell_type": "code",
   "execution_count": 1,
   "metadata": {},
   "outputs": [],
   "source": [
    "%%capture\n",
    "!pip install flickrapi"
   ]
  },
  {
   "cell_type": "markdown",
   "metadata": {},
   "source": [
    "# Scrape links from flickr"
   ]
  },
  {
   "cell_type": "code",
   "execution_count": 2,
   "metadata": {},
   "outputs": [],
   "source": [
    "import flickrapi\n",
    "import requests\n",
    "import pandas as pd"
   ]
  },
  {
   "cell_type": "code",
   "execution_count": 3,
   "metadata": {},
   "outputs": [],
   "source": [
    "import flickr_credentials\n",
    "\n",
    "api_key = flickr_credentials.KEY\n",
    "api_secret = flickr_credentials.SECRET"
   ]
  },
  {
   "cell_type": "code",
   "execution_count": 4,
   "metadata": {},
   "outputs": [],
   "source": [
    "URL_FORMAT = 'https://farm{farm_id}.staticflickr.com/{server_id}/{id}_{secret}.jpg'"
   ]
  },
  {
   "cell_type": "code",
   "execution_count": 5,
   "metadata": {},
   "outputs": [],
   "source": [
    "flickr = flickrapi.FlickrAPI(api_key, api_secret, format='etree')"
   ]
  },
  {
   "cell_type": "code",
   "execution_count": 6,
   "metadata": {},
   "outputs": [],
   "source": [
    "photos = flickr.walk(\n",
    "    tag_mode='all',\n",
    "    tags='azulejo,tile'\n",
    ")\n",
    "\n",
    "links = []\n",
    "\n",
    "for photo in photos:\n",
    "    link = URL_FORMAT.format(\n",
    "        farm_id = photo.get('farm'),\n",
    "        server_id = photo.get('server'),\n",
    "        id=photo.get('id'),\n",
    "        secret=photo.get('secret')\n",
    "    )\n",
    "    links.append(link)   "
   ]
  },
  {
   "cell_type": "code",
   "execution_count": 7,
   "metadata": {},
   "outputs": [],
   "source": [
    "photos = flickr.walk(\n",
    "    tag_mode='all',\n",
    "    tags='azulejo'\n",
    ")\n",
    "\n",
    "links = []\n",
    "\n",
    "for photo in photos:\n",
    "    link = URL_FORMAT.format(\n",
    "        farm_id = photo.get('farm'),\n",
    "        server_id = photo.get('server'),\n",
    "        id=photo.get('id'),\n",
    "        secret=photo.get('secret')\n",
    "    )\n",
    "    links.append(link)   "
   ]
  },
  {
   "cell_type": "code",
   "execution_count": 8,
   "metadata": {},
   "outputs": [],
   "source": [
    "photos = flickr.walk(\n",
    "    tag_mode='all',\n",
    "    tags='tiles,portugal'\n",
    ")\n",
    "\n",
    "links = []\n",
    "\n",
    "for photo in photos:\n",
    "    link = URL_FORMAT.format(\n",
    "        farm_id = photo.get('farm'),\n",
    "        server_id = photo.get('server'),\n",
    "        id=photo.get('id'),\n",
    "        secret=photo.get('secret')\n",
    "    )\n",
    "    links.append(link)   "
   ]
  },
  {
   "cell_type": "code",
   "execution_count": 9,
   "metadata": {},
   "outputs": [],
   "source": [
    "pd.Series(links).to_csv('links.csv', index=False, header=False)"
   ]
  },
  {
   "cell_type": "markdown",
   "metadata": {},
   "source": [
    "# Downloading files locally"
   ]
  },
  {
   "cell_type": "code",
   "execution_count": 10,
   "metadata": {},
   "outputs": [],
   "source": [
    "import csv\n",
    "import re\n",
    "import requests\n",
    "import logging\n",
    "import concurrent.futures"
   ]
  },
  {
   "cell_type": "code",
   "execution_count": 11,
   "metadata": {},
   "outputs": [],
   "source": [
    "logger = logging.getLogger()\n",
    "logger.setLevel('INFO')"
   ]
  },
  {
   "cell_type": "code",
   "execution_count": 12,
   "metadata": {},
   "outputs": [],
   "source": [
    "with open('links.csv', 'r') as f:\n",
    "    reader = csv.reader(f)\n",
    "    links = [_[0] for _ in list(reader)]"
   ]
  },
  {
   "cell_type": "code",
   "execution_count": 13,
   "metadata": {},
   "outputs": [],
   "source": [
    "links = links[1:]"
   ]
  },
  {
   "cell_type": "code",
   "execution_count": 14,
   "metadata": {},
   "outputs": [],
   "source": [
    "def save_link(link):\n",
    "    name = re.findall('.*/(.*).jpg', link)[0]\n",
    "    try:\n",
    "        with open('data/raw_images/{name}.jpg'.format(name=name), 'wb') as f:\n",
    "            f.write(requests.get(link).content)\n",
    "        logger.info('Downloaded {link}'.format(link=link))\n",
    "    except Exception as e:\n",
    "        logger.error(e)"
   ]
  },
  {
   "cell_type": "code",
   "execution_count": 15,
   "metadata": {},
   "outputs": [],
   "source": [
    "save_link(links[0])"
   ]
  },
  {
   "cell_type": "code",
   "execution_count": 16,
   "metadata": {},
   "outputs": [
    {
     "name": "stdout",
     "output_type": "stream",
     "text": [
      "CPU times: user 1min 50s, sys: 16.5 s, total: 2min 7s\n",
      "Wall time: 1min 19s\n"
     ]
    }
   ],
   "source": [
    "%%time\n",
    "\n",
    "with concurrent.futures.ThreadPoolExecutor(max_workers=20) as executor:\n",
    "    [\n",
    "        executor.submit(save_link, link)\n",
    "        for link in links\n",
    "    ]"
   ]
  },
  {
   "cell_type": "code",
   "execution_count": 17,
   "metadata": {},
   "outputs": [
    {
     "data": {
      "text/plain": [
       "8196"
      ]
     },
     "execution_count": 17,
     "metadata": {},
     "output_type": "execute_result"
    }
   ],
   "source": [
    "len(links)"
   ]
  },
  {
   "cell_type": "code",
   "execution_count": 18,
   "metadata": {},
   "outputs": [
    {
     "data": {
      "text/plain": [
       "3926"
      ]
     },
     "execution_count": 18,
     "metadata": {},
     "output_type": "execute_result"
    }
   ],
   "source": [
    "len(set(links))"
   ]
  },
  {
   "cell_type": "code",
   "execution_count": null,
   "metadata": {},
   "outputs": [],
   "source": []
  }
 ],
 "metadata": {
  "kernelspec": {
   "display_name": "conda_python3",
   "language": "python",
   "name": "conda_python3"
  },
  "language_info": {
   "codemirror_mode": {
    "name": "ipython",
    "version": 3
   },
   "file_extension": ".py",
   "mimetype": "text/x-python",
   "name": "python",
   "nbconvert_exporter": "python",
   "pygments_lexer": "ipython3",
   "version": "3.6.10"
  }
 },
 "nbformat": 4,
 "nbformat_minor": 4
}
